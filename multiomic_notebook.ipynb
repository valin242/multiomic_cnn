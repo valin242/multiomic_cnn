{
 "cells": [
  {
   "cell_type": "markdown",
   "id": "e26209a0",
   "metadata": {},
   "source": [
    "# CNN for Multi-omics Analysis"
   ]
  },
  {
   "cell_type": "code",
   "execution_count": 50,
   "id": "b34e5914",
   "metadata": {},
   "outputs": [],
   "source": [
    "# Import Libraries\n",
    "import pandas as pd \n",
    "import numpy as np\n",
    "import matplotlib.pyplot as plt\n",
    "import math\n",
    "\n",
    "import torch\n",
    "import torch.nn as nn\n",
    "import torch.optim as optim\n",
    "from torch.utils.data import Dataset, DataLoader\n",
    "from sklearn.model_selection import train_test_split\n",
    "from sklearn.preprocessing import StandardScaler\n",
    "from sklearn.metrics import mean_squared_error, mean_absolute_error\n",
    "\n",
    "import logging\n",
    "import sys"
   ]
  },
  {
   "cell_type": "code",
   "execution_count": 51,
   "id": "d4bde70f",
   "metadata": {},
   "outputs": [],
   "source": [
    "# Setup Logging\n",
    "logging.basicConfig(level=logging.INFO, \n",
    "                    format='%(asctime)s - %(levelname)s - %(message)s',\n",
    "                    handlers=[logging.StreamHandler(sys.stdout)])\n",
    "logger = logging.getLogger(__name__)"
   ]
  },
  {
   "cell_type": "markdown",
   "id": "5362c3e3",
   "metadata": {},
   "source": [
    "## 1. Load and Prepare Data (Simulated)"
   ]
  },
  {
   "cell_type": "code",
   "execution_count": 52,
   "id": "d6418e50",
   "metadata": {},
   "outputs": [
    {
     "name": "stdout",
     "output_type": "stream",
     "text": [
      "2025-06-04 23:44:14,617 - INFO - Simulating Data\n"
     ]
    }
   ],
   "source": [
    "logger.info(\"Simulating Data\")\n",
    "num_samples = 50\n",
    "num_genes_total = 1000\n",
    "num_proteins_total = 800\n",
    "num_matched_features = 500 # Number of features common to both omics\n",
    "\n",
    "np.random.seed(42)\n",
    "# torch.manual_seed(42)"
   ]
  },
  {
   "cell_type": "code",
   "execution_count": 53,
   "id": "359a3350",
   "metadata": {},
   "outputs": [],
   "source": [
    "sample_names = [f'Sample_{i+1}' for i in range(num_samples)]\n",
    "all_genes = [f'Gene_{i+1}' for i in range(num_genes_total)]\n",
    "all_proteins = [f'Prot_{i+1}' for i in range(num_proteins_total)]\n",
    "matched_ids = [f'Gene_{i+1}' for i in range(num_matched_features)]\n",
    "transcript_ids = matched_ids.copy()  + [ f'Gene_{i+1}' for i in range(num_matched_features, num_genes_total)] # full transcriptome list\n",
    "protein_col_ids = matched_ids.copy() + [ f'Prot_{i+1}' for i in range(num_matched_features, num_proteins_total)] # full proteome list"
   ]
  },
  {
   "cell_type": "markdown",
   "id": "425deffe",
   "metadata": {},
   "source": [
    "Simulate Transcriptomic Data (Samples x Genes)"
   ]
  },
  {
   "cell_type": "code",
   "execution_count": 54,
   "id": "c5c3350e",
   "metadata": {},
   "outputs": [],
   "source": [
    "# values are random numbes, representing expression levels\n",
    "t_data = np.random.rand(num_samples, len(transcript_ids)) * 10\n",
    "transcriptomics_df = pd.DataFrame(t_data, index=sample_names, columns=transcript_ids)"
   ]
  },
  {
   "cell_type": "markdown",
   "id": "fddeace7",
   "metadata": {},
   "source": [
    "Simulate Proteomics Data (Sample x Proteins)"
   ]
  },
  {
   "cell_type": "code",
   "execution_count": 55,
   "id": "acdef709",
   "metadata": {},
   "outputs": [],
   "source": [
    "p_data = np.random.rand(num_samples, len(protein_col_ids)) * 5\n",
    "proteomics_df = pd.DataFrame(p_data, index=sample_names, columns=protein_col_ids)"
   ]
  },
  {
   "cell_type": "markdown",
   "id": "ad47e801",
   "metadata": {},
   "source": [
    "Simulate outcome labels (Disease vs Control)"
   ]
  },
  {
   "cell_type": "code",
   "execution_count": 56,
   "id": "89be99a9",
   "metadata": {},
   "outputs": [],
   "source": [
    "# Binary labels (0 or 1) for each sample\n",
    "labels_np = np.random.randint(0, 2, size=num_samples)\n",
    "labels_df = pd.DataFrame(labels_np, index=sample_names, columns=['Label'])"
   ]
  },
  {
   "cell_type": "code",
   "execution_count": 57,
   "id": "063204a8",
   "metadata": {},
   "outputs": [
    {
     "name": "stdout",
     "output_type": "stream",
     "text": [
      "2025-06-04 23:44:14,663 - INFO - Simulated 50 samples.\n",
      "2025-06-04 23:44:14,665 - INFO - Raw Transcriptomics shape: (50, 1000) (Samples x Total Genes)\n",
      "2025-06-04 23:44:14,667 - INFO - Raw Proteomics shape: (50, 800) (Samples x Total Proteins)\n",
      "2025-06-04 23:44:14,668 - INFO - Number of features intended to be matched: 500\n"
     ]
    }
   ],
   "source": [
    "logger.info(f\"Simulated {num_samples} samples.\")\n",
    "logger.info(f\"Raw Transcriptomics shape: {transcriptomics_df.shape} (Samples x Total Genes)\")\n",
    "logger.info(f\"Raw Proteomics shape: {proteomics_df.shape} (Samples x Total Proteins)\")\n",
    "logger.info(f\"Number of features intended to be matched: {len(matched_ids)}\")"
   ]
  },
  {
   "cell_type": "markdown",
   "id": "5b0aa14f",
   "metadata": {},
   "source": [
    "## 2. Match Features"
   ]
  },
  {
   "cell_type": "code",
   "execution_count": 58,
   "id": "10a65889",
   "metadata": {},
   "outputs": [],
   "source": [
    "# Filter the transcriptomics and proteomics dataframes to only include the matched features.\n",
    "# The column names for these matched features are identical in `matched_ids`.\n",
    "transcriptomics_matched = transcriptomics_df[matched_ids]\n",
    "# For proteomics, we also select columns based on `matched_ids` because we simulated\n",
    "# protein IDs to be the same as gene IDs for the matched portion.\n",
    "proteomics_matched = proteomics_df[matched_ids]"
   ]
  },
  {
   "cell_type": "code",
   "execution_count": 59,
   "id": "9587a669",
   "metadata": {},
   "outputs": [
    {
     "name": "stdout",
     "output_type": "stream",
     "text": [
      "2025-06-04 23:44:14,689 - INFO - Matched transcriptomics shape: (50, 500) (Samples x Matched Genes)\n",
      "2025-06-04 23:44:14,690 - INFO - Matched proteomics shape: (50, 500) (Samples x Matched Proteins)\n"
     ]
    }
   ],
   "source": [
    "logger.info(f\"Matched transcriptomics shape: {transcriptomics_matched.shape} (Samples x Matched Genes)\")\n",
    "logger.info(f\"Matched proteomics shape: {proteomics_matched.shape} (Samples x Matched Proteins)\")"
   ]
  },
  {
   "cell_type": "markdown",
   "id": "dc897dd0",
   "metadata": {},
   "source": [
    "## 3. Get Pathway Data (Simulated)"
   ]
  },
  {
   "cell_type": "code",
   "execution_count": 60,
   "id": "aac6b595",
   "metadata": {},
   "outputs": [
    {
     "name": "stdout",
     "output_type": "stream",
     "text": [
      "2025-06-04 23:44:14,701 - INFO - Simulated 20 pathways covering the matched genes.\n"
     ]
    }
   ],
   "source": [
    "# Pathways are sets of genes that work together. We simulate this by grouping our matched gene IDs.\n",
    "pathways = {} # Dictionary to store pathway_name: [gene_list]. in reality, this would be a list of genes that are known to work together in a biological pathway from gseapy.\n",
    "genes_per_pathway = 25 # Arbitrary number of genes per simulated pathway\n",
    "# Calculate how many pathways we need to cover all matched genes\n",
    "num_pathways_sim = math.ceil(len(matched_ids) / genes_per_pathway)\n",
    "current_gene_idx_for_pathway = 0 # Keep track of genes assigned to pathways\n",
    "for i in range(num_pathways_sim):\n",
    "    pathway_name = f'Pathway_{i+1}'\n",
    "    # Get a slice of matched_ids for the current pathway\n",
    "    pathway_genes = matched_ids[current_gene_idx_for_pathway : current_gene_idx_for_pathway + genes_per_pathway]\n",
    "    if pathway_genes: # Ensure the list is not empty\n",
    "        pathways[pathway_name] = pathway_genes\n",
    "    current_gene_idx_for_pathway += genes_per_pathway\n",
    "logger.info(f\"Simulated {len(pathways)} pathways covering the matched genes.\")"
   ]
  },
  {
   "cell_type": "markdown",
   "id": "3a89da57",
   "metadata": {},
   "source": [
    "## 4. Create Pathway Tiling Master Map"
   ]
  },
  {
   "cell_type": "code",
   "execution_count": 61,
   "id": "2954d8e4",
   "metadata": {},
   "outputs": [
    {
     "name": "stdout",
     "output_type": "stream",
     "text": [
      "2025-06-04 23:44:14,711 - INFO - Target grid dimensions: 23 (H) x 23 (W) = 529 pixels\n"
     ]
    }
   ],
   "source": [
    "# This map defines where each gene/protein pair will be placed on a 2D grid.\n",
    "# The grid dimensions are chosen to be roughly square and large enough to hold all matched features.\n",
    "grid_h = int(math.ceil(math.sqrt(len(matched_ids)))) # Height of the grid\n",
    "grid_w = grid_h # Width of the grid (making it square)\n",
    "grid_total_pixels = grid_h * grid_w\n",
    "logger.info(f\"Target grid dimensions: {grid_h} (H) x {grid_w} (W) = {grid_total_pixels} pixels\")"
   ]
  },
  {
   "cell_type": "code",
   "execution_count": 62,
   "id": "e2dfb7bf",
   "metadata": {},
   "outputs": [
    {
     "name": "stdout",
     "output_type": "stream",
     "text": [
      "2025-06-04 23:44:14,722 - INFO - Placing genes for Pathway_1: ['Gene_1', 'Gene_10', 'Gene_11', 'Gene_12', 'Gene_13', 'Gene_14', 'Gene_15', 'Gene_16', 'Gene_17', 'Gene_18', 'Gene_19', 'Gene_2', 'Gene_20', 'Gene_21', 'Gene_22', 'Gene_23', 'Gene_24', 'Gene_25', 'Gene_3', 'Gene_4', 'Gene_5', 'Gene_6', 'Gene_7', 'Gene_8', 'Gene_9']\n",
      "2025-06-04 23:44:14,724 - INFO - Placing genes for Pathway_10: ['Gene_226', 'Gene_227', 'Gene_228', 'Gene_229', 'Gene_230', 'Gene_231', 'Gene_232', 'Gene_233', 'Gene_234', 'Gene_235', 'Gene_236', 'Gene_237', 'Gene_238', 'Gene_239', 'Gene_240', 'Gene_241', 'Gene_242', 'Gene_243', 'Gene_244', 'Gene_245', 'Gene_246', 'Gene_247', 'Gene_248', 'Gene_249', 'Gene_250']\n",
      "2025-06-04 23:44:14,724 - INFO - Placing genes for Pathway_11: ['Gene_251', 'Gene_252', 'Gene_253', 'Gene_254', 'Gene_255', 'Gene_256', 'Gene_257', 'Gene_258', 'Gene_259', 'Gene_260', 'Gene_261', 'Gene_262', 'Gene_263', 'Gene_264', 'Gene_265', 'Gene_266', 'Gene_267', 'Gene_268', 'Gene_269', 'Gene_270', 'Gene_271', 'Gene_272', 'Gene_273', 'Gene_274', 'Gene_275']\n",
      "2025-06-04 23:44:14,726 - INFO - Placing genes for Pathway_12: ['Gene_276', 'Gene_277', 'Gene_278', 'Gene_279', 'Gene_280', 'Gene_281', 'Gene_282', 'Gene_283', 'Gene_284', 'Gene_285', 'Gene_286', 'Gene_287', 'Gene_288', 'Gene_289', 'Gene_290', 'Gene_291', 'Gene_292', 'Gene_293', 'Gene_294', 'Gene_295', 'Gene_296', 'Gene_297', 'Gene_298', 'Gene_299', 'Gene_300']\n",
      "2025-06-04 23:44:14,727 - INFO - Placing genes for Pathway_13: ['Gene_301', 'Gene_302', 'Gene_303', 'Gene_304', 'Gene_305', 'Gene_306', 'Gene_307', 'Gene_308', 'Gene_309', 'Gene_310', 'Gene_311', 'Gene_312', 'Gene_313', 'Gene_314', 'Gene_315', 'Gene_316', 'Gene_317', 'Gene_318', 'Gene_319', 'Gene_320', 'Gene_321', 'Gene_322', 'Gene_323', 'Gene_324', 'Gene_325']\n",
      "2025-06-04 23:44:14,727 - INFO - Placing genes for Pathway_14: ['Gene_326', 'Gene_327', 'Gene_328', 'Gene_329', 'Gene_330', 'Gene_331', 'Gene_332', 'Gene_333', 'Gene_334', 'Gene_335', 'Gene_336', 'Gene_337', 'Gene_338', 'Gene_339', 'Gene_340', 'Gene_341', 'Gene_342', 'Gene_343', 'Gene_344', 'Gene_345', 'Gene_346', 'Gene_347', 'Gene_348', 'Gene_349', 'Gene_350']\n",
      "2025-06-04 23:44:14,729 - INFO - Placing genes for Pathway_15: ['Gene_351', 'Gene_352', 'Gene_353', 'Gene_354', 'Gene_355', 'Gene_356', 'Gene_357', 'Gene_358', 'Gene_359', 'Gene_360', 'Gene_361', 'Gene_362', 'Gene_363', 'Gene_364', 'Gene_365', 'Gene_366', 'Gene_367', 'Gene_368', 'Gene_369', 'Gene_370', 'Gene_371', 'Gene_372', 'Gene_373', 'Gene_374', 'Gene_375']\n",
      "2025-06-04 23:44:14,730 - INFO - Placing genes for Pathway_16: ['Gene_376', 'Gene_377', 'Gene_378', 'Gene_379', 'Gene_380', 'Gene_381', 'Gene_382', 'Gene_383', 'Gene_384', 'Gene_385', 'Gene_386', 'Gene_387', 'Gene_388', 'Gene_389', 'Gene_390', 'Gene_391', 'Gene_392', 'Gene_393', 'Gene_394', 'Gene_395', 'Gene_396', 'Gene_397', 'Gene_398', 'Gene_399', 'Gene_400']\n",
      "2025-06-04 23:44:14,731 - INFO - Placing genes for Pathway_17: ['Gene_401', 'Gene_402', 'Gene_403', 'Gene_404', 'Gene_405', 'Gene_406', 'Gene_407', 'Gene_408', 'Gene_409', 'Gene_410', 'Gene_411', 'Gene_412', 'Gene_413', 'Gene_414', 'Gene_415', 'Gene_416', 'Gene_417', 'Gene_418', 'Gene_419', 'Gene_420', 'Gene_421', 'Gene_422', 'Gene_423', 'Gene_424', 'Gene_425']\n",
      "2025-06-04 23:44:14,732 - INFO - Placing genes for Pathway_18: ['Gene_426', 'Gene_427', 'Gene_428', 'Gene_429', 'Gene_430', 'Gene_431', 'Gene_432', 'Gene_433', 'Gene_434', 'Gene_435', 'Gene_436', 'Gene_437', 'Gene_438', 'Gene_439', 'Gene_440', 'Gene_441', 'Gene_442', 'Gene_443', 'Gene_444', 'Gene_445', 'Gene_446', 'Gene_447', 'Gene_448', 'Gene_449', 'Gene_450']\n",
      "2025-06-04 23:44:14,732 - INFO - Placing genes for Pathway_19: ['Gene_451', 'Gene_452', 'Gene_453', 'Gene_454', 'Gene_455', 'Gene_456', 'Gene_457', 'Gene_458', 'Gene_459', 'Gene_460', 'Gene_461', 'Gene_462', 'Gene_463', 'Gene_464', 'Gene_465', 'Gene_466', 'Gene_467', 'Gene_468', 'Gene_469', 'Gene_470', 'Gene_471', 'Gene_472', 'Gene_473', 'Gene_474', 'Gene_475']\n",
      "2025-06-04 23:44:14,733 - INFO - Placing genes for Pathway_2: ['Gene_26', 'Gene_27', 'Gene_28', 'Gene_29', 'Gene_30', 'Gene_31', 'Gene_32', 'Gene_33', 'Gene_34', 'Gene_35', 'Gene_36', 'Gene_37', 'Gene_38', 'Gene_39', 'Gene_40', 'Gene_41', 'Gene_42', 'Gene_43', 'Gene_44', 'Gene_45', 'Gene_46', 'Gene_47', 'Gene_48', 'Gene_49', 'Gene_50']\n",
      "2025-06-04 23:44:14,735 - INFO - Placing genes for Pathway_20: ['Gene_476', 'Gene_477', 'Gene_478', 'Gene_479', 'Gene_480', 'Gene_481', 'Gene_482', 'Gene_483', 'Gene_484', 'Gene_485', 'Gene_486', 'Gene_487', 'Gene_488', 'Gene_489', 'Gene_490', 'Gene_491', 'Gene_492', 'Gene_493', 'Gene_494', 'Gene_495', 'Gene_496', 'Gene_497', 'Gene_498', 'Gene_499', 'Gene_500']\n",
      "2025-06-04 23:44:14,736 - INFO - Placing genes for Pathway_3: ['Gene_51', 'Gene_52', 'Gene_53', 'Gene_54', 'Gene_55', 'Gene_56', 'Gene_57', 'Gene_58', 'Gene_59', 'Gene_60', 'Gene_61', 'Gene_62', 'Gene_63', 'Gene_64', 'Gene_65', 'Gene_66', 'Gene_67', 'Gene_68', 'Gene_69', 'Gene_70', 'Gene_71', 'Gene_72', 'Gene_73', 'Gene_74', 'Gene_75']\n",
      "2025-06-04 23:44:14,737 - INFO - Placing genes for Pathway_4: ['Gene_100', 'Gene_76', 'Gene_77', 'Gene_78', 'Gene_79', 'Gene_80', 'Gene_81', 'Gene_82', 'Gene_83', 'Gene_84', 'Gene_85', 'Gene_86', 'Gene_87', 'Gene_88', 'Gene_89', 'Gene_90', 'Gene_91', 'Gene_92', 'Gene_93', 'Gene_94', 'Gene_95', 'Gene_96', 'Gene_97', 'Gene_98', 'Gene_99']\n",
      "2025-06-04 23:44:14,737 - INFO - Placing genes for Pathway_5: ['Gene_101', 'Gene_102', 'Gene_103', 'Gene_104', 'Gene_105', 'Gene_106', 'Gene_107', 'Gene_108', 'Gene_109', 'Gene_110', 'Gene_111', 'Gene_112', 'Gene_113', 'Gene_114', 'Gene_115', 'Gene_116', 'Gene_117', 'Gene_118', 'Gene_119', 'Gene_120', 'Gene_121', 'Gene_122', 'Gene_123', 'Gene_124', 'Gene_125']\n",
      "2025-06-04 23:44:14,737 - INFO - Placing genes for Pathway_6: ['Gene_126', 'Gene_127', 'Gene_128', 'Gene_129', 'Gene_130', 'Gene_131', 'Gene_132', 'Gene_133', 'Gene_134', 'Gene_135', 'Gene_136', 'Gene_137', 'Gene_138', 'Gene_139', 'Gene_140', 'Gene_141', 'Gene_142', 'Gene_143', 'Gene_144', 'Gene_145', 'Gene_146', 'Gene_147', 'Gene_148', 'Gene_149', 'Gene_150']\n",
      "2025-06-04 23:44:14,738 - INFO - Placing genes for Pathway_7: ['Gene_151', 'Gene_152', 'Gene_153', 'Gene_154', 'Gene_155', 'Gene_156', 'Gene_157', 'Gene_158', 'Gene_159', 'Gene_160', 'Gene_161', 'Gene_162', 'Gene_163', 'Gene_164', 'Gene_165', 'Gene_166', 'Gene_167', 'Gene_168', 'Gene_169', 'Gene_170', 'Gene_171', 'Gene_172', 'Gene_173', 'Gene_174', 'Gene_175']\n",
      "2025-06-04 23:44:14,739 - INFO - Placing genes for Pathway_8: ['Gene_176', 'Gene_177', 'Gene_178', 'Gene_179', 'Gene_180', 'Gene_181', 'Gene_182', 'Gene_183', 'Gene_184', 'Gene_185', 'Gene_186', 'Gene_187', 'Gene_188', 'Gene_189', 'Gene_190', 'Gene_191', 'Gene_192', 'Gene_193', 'Gene_194', 'Gene_195', 'Gene_196', 'Gene_197', 'Gene_198', 'Gene_199', 'Gene_200']\n",
      "2025-06-04 23:44:14,739 - INFO - Placing genes for Pathway_9: ['Gene_201', 'Gene_202', 'Gene_203', 'Gene_204', 'Gene_205', 'Gene_206', 'Gene_207', 'Gene_208', 'Gene_209', 'Gene_210', 'Gene_211', 'Gene_212', 'Gene_213', 'Gene_214', 'Gene_215', 'Gene_216', 'Gene_217', 'Gene_218', 'Gene_219', 'Gene_220', 'Gene_221', 'Gene_222', 'Gene_223', 'Gene_224', 'Gene_225']\n"
     ]
    }
   ],
   "source": [
    "# Create mapping of matched features to grid positions: gene_id: (row, col)\n",
    "gene_to_position = {}\n",
    "current_row, current_col = 0, 0\n",
    "\n",
    "# Sort pathways for consisten ordering (e.g. alhpabetical)\n",
    "sorted_pathway_names = sorted(pathways.keys())\n",
    "\n",
    "genes_placed = set()  # Track which genes have been placed\n",
    "\n",
    "for pathway_name in sorted_pathway_names:\n",
    "    pathway_genes = pathways[pathway_name]\n",
    "    sorted_genes_in_pathway = sorted(pathway_genes)  # Sort genes in the pathway for consistent placement\n",
    "    logger.info(f\"Placing genes for {pathway_name}: {sorted_genes_in_pathway}\")\n",
    "    for gene_id in sorted_genes_in_pathway:\n",
    "        if gene_id in matched_ids and gene_id not in genes_placed: # ensure we only place matched genes and avoid duplicates\n",
    "            # Place the gene in the current grid position\n",
    "            gene_to_position[gene_id] = (current_row, current_col) # store the position\n",
    "            genes_placed.add(gene_id) # mark this gene as placed\n",
    "\n",
    "\n",
    "            # move to next pixel in the grid\n",
    "            if current_col >= grid_w:\n",
    "                current_col = 0\n",
    "                current_row += 1\n",
    "        else:\n",
    "            logger.warning(f\"Warning: Grid full ({grid_h}x{grid_w}), cannot place gene {gene_id}.\")\n",
    "            break # Stop if grid is full\n",
    "    if current_row >= grid_h:  # Stop if grid is full\n",
    "        logger.warning(\"Grid is full, stopping placement of genes.\")\n",
    "        break"
   ]
  },
  {
   "cell_type": "markdown",
   "id": "1381ee11",
   "metadata": {},
   "source": [
    "## 5. Generate 2-Channel Images for Each Sample"
   ]
  },
  {
   "cell_type": "code",
   "execution_count": 63,
   "id": "399f0dfe",
   "metadata": {},
   "outputs": [
    {
     "name": "stdout",
     "output_type": "stream",
     "text": [
      "2025-06-04 23:44:14,753 - INFO - Generating 2D grid positions for matched features.\n"
     ]
    }
   ],
   "source": [
    "logging.info(\"Generating 2D grid positions for matched features.\")\n",
    "# list to hold all sample iamges\n",
    "all_sample_images = []\n",
    "\n",
    "# Define fill value for missing gnes or empty pixels\n",
    "fill_value = 0.0\n",
    "\n",
    "for sample_name in sample_names:\n",
    "    # Create emptty channels for this sample\n",
    "    channel_T = np.full((grid_h, grid_w), fill_value, dtype=np.float32)\n",
    "    channel_P = np.full((grid_h, grid_w), fill_value, dtype=np.float32)\n",
    "\n",
    "    # Get the data row for the current sample\n",
    "    t_sample_data = transcriptomics_matched.loc[sample_name]\n",
    "    p_sample_data = proteomics_matched.loc[sample_name]\n",
    "\n",
    "    # Populate channels using the master map\n",
    "    for gene_id, (r,c) in gene_to_position.items():\n",
    "        # Check if gene/protein exists in the sample's data\n",
    "        if gene_id in t_sample_data.index:\n",
    "            channel_T[r, c] = t_sample_data[gene_id]\n",
    "        if gene_id in p_sample_data.index: # Remember protein columns use gene_id\n",
    "            channel_P[r, c] = p_sample_data[gene_id]\n",
    "\n",
    "    sample_image = np.stack((channel_T, channel_P), axis=-1)  # Stack channels\n",
    "    all_sample_images.append(sample_image)"
   ]
  },
  {
   "cell_type": "code",
   "execution_count": 64,
   "id": "ae5cd6de",
   "metadata": {},
   "outputs": [
    {
     "name": "stdout",
     "output_type": "stream",
     "text": [
      "2025-06-04 23:44:14,953 - INFO - Generated CNN input data with shape: (50, 23, 23, 2)\n"
     ]
    }
   ],
   "source": [
    "# Convert the list of images into a single NumPy array (N x H x W x 2)\n",
    "# This is the input for the CNN\n",
    "cnn_input_data = np.array(all_sample_images)\n",
    "\n",
    "logging.info(f\"Generated CNN input data with shape: {cnn_input_data.shape}\") # (num_samples, H, W, 2)\n"
   ]
  },
  {
   "cell_type": "markdown",
   "id": "47d0b71e",
   "metadata": {},
   "source": [
    "## 6.  Visualize an Example Image"
   ]
  },
  {
   "cell_type": "code",
   "execution_count": 65,
   "id": "1b096d80",
   "metadata": {},
   "outputs": [
    {
     "name": "stdout",
     "output_type": "stream",
     "text": [
      "2025-06-04 23:44:14,964 - INFO - \n",
      "--- Visualizing Example Image (Sample 0) ---\n"
     ]
    },
    {
     "data": {
      "image/png": "[encoded data removed]",
      "text/plain": [
       "<Figure size 1000x500 with 4 Axes>"
      ]
     },
     "metadata": {},
     "output_type": "display_data"
    }
   ],
   "source": [
    "logging.info(\"\\n--- Visualizing Example Image (Sample 0) ---\")\n",
    "example_image = cnn_input_data[0] # Get the first sample's image\n",
    "\n",
    "fig, axes = plt.subplots(1, 2, figsize=(10, 5))\n",
    "\n",
    "# Plot Transcriptomics Channel (Channel 0)\n",
    "im0 = axes[0].imshow(example_image[:, :, 0], cmap='Reds', interpolation='nearest')\n",
    "axes[0].set_title('Channel 0: Transcriptomics')\n",
    "axes[0].set_xlabel('Grid Column')\n",
    "axes[0].set_ylabel('Grid Row')\n",
    "fig.colorbar(im0, ax=axes[0], fraction=0.046, pad=0.04)\n",
    "\n",
    "# Plot Proteomics Channel (Channel 1)\n",
    "im1 = axes[1].imshow(example_image[:, :, 1], cmap='Blues', interpolation='nearest')\n",
    "axes[1].set_title('Channel 1: Proteomics')\n",
    "axes[1].set_xlabel('Grid Column')\n",
    "axes[1].set_ylabel('Grid Row')\n",
    "fig.colorbar(im1, ax=axes[1], fraction=0.046, pad=0.04)\n",
    "\n",
    "plt.tight_layout()\n",
    "plt.show()"
   ]
  },
  {
   "cell_type": "code",
   "execution_count": null,
   "id": "825bd3dd",
   "metadata": {},
   "outputs": [
    {
     "name": "stdout",
     "output_type": "stream",
     "text": [
      "20\n"
     ]
    },
    {
     "ename": "",
     "evalue": "",
     "output_type": "error",
     "traceback": [
      "\u001b[1;31mThe Kernel crashed while executing code in the current cell or a previous cell. \n",
      "\u001b[1;31mPlease review the code in the cell(s) to identify a possible cause of the failure. \n",
      "\u001b[1;31mClick <a href='https://aka.ms/vscodeJupyterKernelCrash'>here</a> for more info. \n",
      "\u001b[1;31mView Jupyter <a href='command:jupyter.viewOutput'>log</a> for further details."
     ]
    }
   ],
   "source": [
    "print(num_pathways_sim)"
   ]
  },
  {
   "cell_type": "code",
   "execution_count": null,
   "id": "181f1216",
   "metadata": {},
   "outputs": [],
   "source": []
  }
 ],
 "metadata": {
  "kernelspec": {
   "display_name": "Python 3",
   "language": "python",
   "name": "python3"
  },
  "language_info": {
   "codemirror_mode": {
    "name": "ipython",
    "version": 3
   },
   "file_extension": ".py",
   "mimetype": "text/x-python",
   "name": "python",
   "nbconvert_exporter": "python",
   "pygments_lexer": "ipython3",
   "version": "3.12.10"
  }
 },
 "nbformat": 4,
 "nbformat_minor": 5
}
