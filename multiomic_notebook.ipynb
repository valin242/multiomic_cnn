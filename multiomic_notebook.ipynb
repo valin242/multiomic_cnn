{
 "cells": [
  {
   "cell_type": "markdown",
   "id": "e26209a0",
   "metadata": {},
   "source": [
    "# CNN for Multi-omics Analysis"
   ]
  },
  {
   "cell_type": "code",
   "execution_count": 5,
   "id": "b34e5914",
   "metadata": {},
   "outputs": [],
   "source": [
    "# Import Libraries\n",
    "import pandas as pd \n",
    "import numpy as np\n",
    "import matplotlib.pyplot as plt\n",
    "import math\n",
    "\n",
    "import torch\n",
    "import torch.nn as nn\n",
    "import torch.optim as optim\n",
    "from torch.utils.data import Dataset, DataLoader\n",
    "from sklearn.model_selection import train_test_split\n",
    "from sklearn.preprocessing import StandardScaler\n",
    "from sklearn.metrics import mean_squared_error, mean_absolute_error\n",
    "\n",
    "import logging\n",
    "import sys"
   ]
  },
  {
   "cell_type": "code",
   "execution_count": 6,
   "id": "d4bde70f",
   "metadata": {},
   "outputs": [],
   "source": [
    "# Setup Logging\n",
    "logging.basicConfig(level=logging.INFO, \n",
    "                    format='%(asctime)s - %(levelname)s - %(message)s',\n",
    "                    handlers=[logging.StreamHandler(sys.stdout)])\n",
    "logger = logging.getLogger(__name__)"
   ]
  },
  {
   "cell_type": "markdown",
   "id": "5362c3e3",
   "metadata": {},
   "source": [
    "## 1. Load and Prepare Data (Simulated)"
   ]
  },
  {
   "cell_type": "code",
   "execution_count": 26,
   "id": "d6418e50",
   "metadata": {},
   "outputs": [
    {
     "name": "stderr",
     "output_type": "stream",
     "text": [
      "2025-05-21 21:37:08,906 - INFO - Simulating Data\n"
     ]
    },
    {
     "data": {
      "text/plain": [
       "<torch._C.Generator at 0x1cd6934de30>"
      ]
     },
     "execution_count": 26,
     "metadata": {},
     "output_type": "execute_result"
    }
   ],
   "source": [
    "logger.info(\"Simulating Data\")\n",
    "num_samples = 50\n",
    "num_genes_total = 1000\n",
    "num_proteins_total = 800\n",
    "num_matched_features = 500 # Number of features common to both omics\n",
    "\n",
    "np.random.seed(42)\n",
    "torch.manual_seed(42)"
   ]
  },
  {
   "cell_type": "code",
   "execution_count": null,
   "id": "359a3350",
   "metadata": {},
   "outputs": [],
   "source": [
    "sample_names = [f'Sample_{i+1}' for i in range(num_samples)]\n",
    "all_genes = [f'Gene_{i+1}' for i in range(num_genes_total)]\n",
    "all_proteins = [f'Prot_{i+1}' for i in range(num_proteins_total)]\n",
    "matched_ids = [f'Gene_{i+1}' for i in range(num_matched_features)]\n",
    "transcript_ids = matched_ids.copy()  + [ f'Gene_{i+1}' for i in range(num_matched_features, num_genes_total)] # full transcriptome list\n",
    "protein_col_ids = matched_ids.copy() + [ f'Prot_{i+1}' for i in range(num_matched_features, num_proteins_total)] # full proteome list"
   ]
  },
  {
   "cell_type": "markdown",
   "id": "425deffe",
   "metadata": {},
   "source": [
    "Simulate Transcriptomic Data (Samples x Genes)"
   ]
  },
  {
   "cell_type": "code",
   "execution_count": 27,
   "id": "c5c3350e",
   "metadata": {},
   "outputs": [],
   "source": [
    "# values are random numbes, representing expression levels\n",
    "t_data = np.random.rand(num_samples, len(transcript_ids)) * 100\n",
    "transcriptomics_df = pd.DataFrame(t_data, index=sample_names, columns=transcript_ids)"
   ]
  },
  {
   "cell_type": "markdown",
   "id": "fddeace7",
   "metadata": {},
   "source": [
    "Simulate Proteomics Data (Sample x Proteins)"
   ]
  },
  {
   "cell_type": "code",
   "execution_count": 28,
   "id": "acdef709",
   "metadata": {},
   "outputs": [],
   "source": [
    "p_data = np.random.rand(num_samples, len(protein_col_ids)) * 100000\n",
    "proteomics_df = pd.DataFrame(p_data, index=sample_names, columns=protein_col_ids)"
   ]
  },
  {
   "cell_type": "markdown",
   "id": "ad47e801",
   "metadata": {},
   "source": [
    "Simulate outcome labels (Disease vs Control)"
   ]
  },
  {
   "cell_type": "code",
   "execution_count": 32,
   "id": "89be99a9",
   "metadata": {},
   "outputs": [],
   "source": [
    "# Binary labels (0 or 1) for each sample\n",
    "labels_np = np.random.randint(0, 2, size=num_samples)\n",
    "labels_df = pd.DataFrame(labels_np, index=sample_names, columns=['Label'])"
   ]
  },
  {
   "cell_type": "code",
   "execution_count": 33,
   "id": "063204a8",
   "metadata": {},
   "outputs": [
    {
     "name": "stderr",
     "output_type": "stream",
     "text": [
      "2025-05-21 21:40:48,914 - INFO - Simulated 50 samples.\n",
      "2025-05-21 21:40:48,915 - INFO - Raw Transcriptomics shape: (50, 1000) (Samples x Total Genes)\n",
      "2025-05-21 21:40:48,915 - INFO - Raw Proteomics shape: (50, 800) (Samples x Total Proteins)\n",
      "2025-05-21 21:40:48,916 - INFO - Number of features intended to be matched: 500\n"
     ]
    }
   ],
   "source": [
    "logger.info(f\"Simulated {num_samples} samples.\")\n",
    "logger.info(f\"Raw Transcriptomics shape: {transcriptomics_df.shape} (Samples x Total Genes)\")\n",
    "logger.info(f\"Raw Proteomics shape: {proteomics_df.shape} (Samples x Total Proteins)\")\n",
    "logger.info(f\"Number of features intended to be matched: {len(matched_ids)}\")"
   ]
  },
  {
   "cell_type": "markdown",
   "id": "5b0aa14f",
   "metadata": {},
   "source": [
    "## 2. Match Features"
   ]
  },
  {
   "cell_type": "code",
   "execution_count": 34,
   "id": "10a65889",
   "metadata": {},
   "outputs": [],
   "source": [
    "# Filter the transcriptomics and proteomics dataframes to only include the matched features.\n",
    "# The column names for these matched features are identical in `matched_ids`.\n",
    "transcriptomics_matched = transcriptomics_df[matched_ids]\n",
    "# For proteomics, we also select columns based on `matched_ids` because we simulated\n",
    "# protein IDs to be the same as gene IDs for the matched portion.\n",
    "proteomics_matched = proteomics_df[matched_ids]"
   ]
  },
  {
   "cell_type": "code",
   "execution_count": 35,
   "id": "9587a669",
   "metadata": {},
   "outputs": [
    {
     "name": "stderr",
     "output_type": "stream",
     "text": [
      "2025-05-21 21:42:56,831 - INFO - Matched transcriptomics shape: (50, 500) (Samples x Matched Genes)\n",
      "2025-05-21 21:42:56,832 - INFO - Matched proteomics shape: (50, 500) (Samples x Matched Proteins)\n"
     ]
    }
   ],
   "source": [
    "logger.info(f\"Matched transcriptomics shape: {transcriptomics_matched.shape} (Samples x Matched Genes)\")\n",
    "logger.info(f\"Matched proteomics shape: {proteomics_matched.shape} (Samples x Matched Proteins)\")"
   ]
  },
  {
   "cell_type": "markdown",
   "id": "dc897dd0",
   "metadata": {},
   "source": [
    "## 3. Get Pathway Data (Simulated)"
   ]
  },
  {
   "cell_type": "code",
   "execution_count": 40,
   "id": "aac6b595",
   "metadata": {},
   "outputs": [
    {
     "name": "stderr",
     "output_type": "stream",
     "text": [
      "2025-05-21 21:48:56,439 - INFO - Simulated 20 pathways covering the matched genes.\n"
     ]
    }
   ],
   "source": [
    "# Pathways are sets of genes that work together. We simulate this by grouping our matched gene IDs.\n",
    "pathways = {} # Dictionary to store pathway_name: [gene_list]. in reality, this would be a list of genes that are known to work together in a biological pathway from gseapy.\n",
    "genes_per_pathway = 25 # Arbitrary number of genes per simulated pathway\n",
    "# Calculate how many pathways we need to cover all matched genes\n",
    "num_pathways_sim = math.ceil(len(matched_ids) / genes_per_pathway)\n",
    "current_gene_idx_for_pathway = 0 # Keep track of genes assigned to pathways\n",
    "for i in range(num_pathways_sim):\n",
    "    pathway_name = f'Pathway_{i+1}'\n",
    "    # Get a slice of matched_ids for the current pathway\n",
    "    pathway_genes = matched_ids[current_gene_idx_for_pathway : current_gene_idx_for_pathway + genes_per_pathway]\n",
    "    if pathway_genes: # Ensure the list is not empty\n",
    "        pathways[pathway_name] = pathway_genes\n",
    "    current_gene_idx_for_pathway += genes_per_pathway\n",
    "logger.info(f\"Simulated {len(pathways)} pathways covering the matched genes.\")"
   ]
  },
  {
   "cell_type": "markdown",
   "id": "3a89da57",
   "metadata": {},
   "source": [
    "## 4. Create Pathway Tiling Master Map"
   ]
  },
  {
   "cell_type": "code",
   "execution_count": null,
   "id": "2954d8e4",
   "metadata": {},
   "outputs": [],
   "source": [
    "# This map defines where each gene/protein pair will be placed on a 2D grid.\n",
    "# The grid dimensions are chosen to be roughly square and large enough to hold all matched features.\n",
    "grid_h = int(math.ceil(math.sqrt(len(matched_ids)))) # Height of the grid\n",
    "grid_w = grid_h # Width of the grid (making it square)\n",
    "grid_total_pixels = grid_h * grid_w\n",
    "logger.info(f\"Target grid dimensions: {grid_h} (H) x {grid_w} (W) = {grid_total_pixels} pixels\")"
   ]
  },
  {
   "cell_type": "code",
   "execution_count": 39,
   "id": "825bd3dd",
   "metadata": {},
   "outputs": [
    {
     "name": "stdout",
     "output_type": "stream",
     "text": [
      "20\n"
     ]
    }
   ],
   "source": [
    "print(num_pathways_sim)"
   ]
  },
  {
   "cell_type": "code",
   "execution_count": null,
   "id": "181f1216",
   "metadata": {},
   "outputs": [],
   "source": []
  }
 ],
 "metadata": {
  "kernelspec": {
   "display_name": "Python 3",
   "language": "python",
   "name": "python3"
  },
  "language_info": {
   "codemirror_mode": {
    "name": "ipython",
    "version": 3
   },
   "file_extension": ".py",
   "mimetype": "text/x-python",
   "name": "python",
   "nbconvert_exporter": "python",
   "pygments_lexer": "ipython3",
   "version": "3.12.10"
  }
 },
 "nbformat": 4,
 "nbformat_minor": 5
}
